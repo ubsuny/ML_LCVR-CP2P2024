{
 "cells": [
  {
   "cell_type": "markdown",
   "metadata": {},
   "source": [
    "# Using the lcvr_learning Class to Measure Training Data\n",
    "\n",
    "To train our model, it helps to have a large amount of training data. While this can be measured and calibrated by hand, it can take several hours for a single wavelength to get the data. On top of this, changing the orientation of the LCVR's will then change the necessary driving voltage for different polarizations, resulting in prior training data being useless. To combat this, the class has an automated function for collecting training data.\n",
    "\n",
    "First we need to import the library. In addition, we set the device to our input channel on our ADC module. This is required to know where the data is being read from. We can also set the function generator being used for the square wave as well, which *should* work so long as it follows the same SCPI command syntax as the Siglent 2042x. Otherwise the functions that read and write parameters to the function generators may need to be modified."
   ]
  },
  {
   "cell_type": "code",
   "execution_count": 1,
   "metadata": {},
   "outputs": [],
   "source": [
    "import lcvr_learning as lcl\n",
    "import numpy as np\n",
    "import pyvisa\n",
    "import pandas as pd\n",
    "import matplotlib.pyplot as plt\n",
    "rm = pyvisa.ResourceManager('@py')\n",
    "lcvrs = lcl.lcvr_learning(0x6a,0x6b)"
   ]
  },
  {
   "cell_type": "markdown",
   "metadata": {},
   "source": [
    "There's a few functions in the class that simplify some processes, such as setting the input voltage, getting information on the current inputs, and reading out data from the ADC. This just cuts back a bit on SCPI queries and hopefully makes the code more readable. As an example:"
   ]
  },
  {
   "cell_type": "code",
   "execution_count": 2,
   "metadata": {},
   "outputs": [
    {
     "data": {
      "text/plain": [
       "9.375e-05"
      ]
     },
     "execution_count": 2,
     "metadata": {},
     "output_type": "execute_result"
    }
   ],
   "source": [
    "lcvrs.get_voltage()"
   ]
  },
  {
   "cell_type": "markdown",
   "metadata": {},
   "source": [
    "Returns the current output voltage on the ADC, and"
   ]
  },
  {
   "cell_type": "code",
   "execution_count": 15,
   "metadata": {},
   "outputs": [
    {
     "data": {
      "text/plain": [
       "(2000.0, 1.0)"
      ]
     },
     "execution_count": 15,
     "metadata": {},
     "output_type": "execute_result"
    }
   ],
   "source": [
    "lcvrs.get_wave_info(1)\n",
    "lcvrs.get_wave_info(2)"
   ]
  },
  {
   "cell_type": "markdown",
   "metadata": {},
   "source": [
    "Returns the frequency and amplitude of the inputs on channel 1 and 2 respectively. These are initialized to 2000 Hz and 1 V when the connection is made as a safeguard. "
   ]
  },
  {
   "cell_type": "markdown",
   "metadata": {},
   "source": [
    "# Automatically Reading and Writing Data:\n",
    "\n",
    "The class has the function get_training_data(iterations,wavelength), which will automatically alter the input voltages on each LCVR and read the differential output on two photodetectors that are preceeded by a Wollaston prism. This in turn means the output voltage is directly correlated to the polarization state of the output light. All of this data is then written to a pandas dataframe for easy manipulation."
   ]
  },
  {
   "cell_type": "code",
   "execution_count": 7,
   "metadata": {},
   "outputs": [
    {
     "name": "stdout",
     "output_type": "stream",
     "text": [
      "Starting training data scan. Don't touch anything please\n"
     ]
    }
   ],
   "source": [
    "data = lcvrs.get_training_data(375,480,mode = \"fixed_v1\", v1 = 4.8581)"
   ]
  },
  {
   "cell_type": "code",
   "execution_count": 5,
   "metadata": {},
   "outputs": [
    {
     "data": {
      "text/html": [
       "<div>\n",
       "<style scoped>\n",
       "    .dataframe tbody tr th:only-of-type {\n",
       "        vertical-align: middle;\n",
       "    }\n",
       "\n",
       "    .dataframe tbody tr th {\n",
       "        vertical-align: top;\n",
       "    }\n",
       "\n",
       "    .dataframe thead th {\n",
       "        text-align: right;\n",
       "    }\n",
       "</style>\n",
       "<table border=\"1\" class=\"dataframe\">\n",
       "  <thead>\n",
       "    <tr style=\"text-align: right;\">\n",
       "      <th></th>\n",
       "      <th>Wavelength</th>\n",
       "      <th>V1</th>\n",
       "      <th>V2</th>\n",
       "      <th>Gain</th>\n",
       "      <th>Out</th>\n",
       "    </tr>\n",
       "  </thead>\n",
       "  <tbody>\n",
       "    <tr>\n",
       "      <th>0</th>\n",
       "      <td>480</td>\n",
       "      <td>4.8581</td>\n",
       "      <td>0.600000</td>\n",
       "      <td>1</td>\n",
       "      <td>-0.033141</td>\n",
       "    </tr>\n",
       "    <tr>\n",
       "      <th>1</th>\n",
       "      <td>480</td>\n",
       "      <td>4.8581</td>\n",
       "      <td>0.647236</td>\n",
       "      <td>1</td>\n",
       "      <td>0.013000</td>\n",
       "    </tr>\n",
       "    <tr>\n",
       "      <th>2</th>\n",
       "      <td>480</td>\n",
       "      <td>4.8581</td>\n",
       "      <td>0.694472</td>\n",
       "      <td>1</td>\n",
       "      <td>0.072953</td>\n",
       "    </tr>\n",
       "    <tr>\n",
       "      <th>3</th>\n",
       "      <td>480</td>\n",
       "      <td>4.8581</td>\n",
       "      <td>0.741709</td>\n",
       "      <td>1</td>\n",
       "      <td>0.126484</td>\n",
       "    </tr>\n",
       "    <tr>\n",
       "      <th>4</th>\n",
       "      <td>480</td>\n",
       "      <td>4.8581</td>\n",
       "      <td>0.788945</td>\n",
       "      <td>1</td>\n",
       "      <td>0.127062</td>\n",
       "    </tr>\n",
       "  </tbody>\n",
       "</table>\n",
       "</div>"
      ],
      "text/plain": [
       "   Wavelength      V1        V2  Gain       Out\n",
       "0         480  4.8581  0.600000     1 -0.033141\n",
       "1         480  4.8581  0.647236     1  0.013000\n",
       "2         480  4.8581  0.694472     1  0.072953\n",
       "3         480  4.8581  0.741709     1  0.126484\n",
       "4         480  4.8581  0.788945     1  0.127062"
      ]
     },
     "execution_count": 5,
     "metadata": {},
     "output_type": "execute_result"
    }
   ],
   "source": [
    "data.head()"
   ]
  },
  {
   "cell_type": "markdown",
   "metadata": {},
   "source": [
    "Here we write the data to a .csv file to train our model on later. The name is simply the wavelength of light used (in nm) to try and keep things readable."
   ]
  },
  {
   "cell_type": "code",
   "execution_count": 8,
   "metadata": {},
   "outputs": [],
   "source": [
    "data.to_csv('training_data/single_wave/480_single_v1.csv')"
   ]
  },
  {
   "cell_type": "code",
   "execution_count": 6,
   "metadata": {},
   "outputs": [
    {
     "data": {
      "image/png": "[encoded data removed]",
      "text/plain": [
       "<Figure size 640x480 with 1 Axes>"
      ]
     },
     "metadata": {},
     "output_type": "display_data"
    }
   ],
   "source": [
    "ang_data = pd.read_csv(\"training_data/single_wave/480_single_v1.csv\")\n",
    "data = lcvrs.add_angle(ang_data)\n",
    "x = data['V2']\n",
    "y = data['Angle']\n",
    "\n",
    "fig, ax = plt.subplots()\n",
    "\n",
    "ax.scatter(x, y, color='blue', linewidth=2)\n",
    "\n",
    "# Customization\n",
    "ax.set_xlabel('X')\n",
    "ax.set_ylabel('Y')\n",
    "ax.set_title('Fixed V1 V2 vs Angle')\n",
    "\n",
    "# Show!\n",
    "plt.show()"
   ]
  },
  {
   "cell_type": "code",
   "execution_count": 3,
   "metadata": {},
   "outputs": [
    {
     "data": {
      "text/html": [
       "<div>\n",
       "<style scoped>\n",
       "    .dataframe tbody tr th:only-of-type {\n",
       "        vertical-align: middle;\n",
       "    }\n",
       "\n",
       "    .dataframe tbody tr th {\n",
       "        vertical-align: top;\n",
       "    }\n",
       "\n",
       "    .dataframe thead th {\n",
       "        text-align: right;\n",
       "    }\n",
       "</style>\n",
       "<table border=\"1\" class=\"dataframe\">\n",
       "  <thead>\n",
       "    <tr style=\"text-align: right;\">\n",
       "      <th></th>\n",
       "      <th>Unnamed: 0</th>\n",
       "      <th>Wavelength</th>\n",
       "      <th>V1</th>\n",
       "      <th>V2</th>\n",
       "      <th>Gain</th>\n",
       "      <th>Out</th>\n",
       "    </tr>\n",
       "  </thead>\n",
       "  <tbody>\n",
       "    <tr>\n",
       "      <th>0</th>\n",
       "      <td>0</td>\n",
       "      <td>480</td>\n",
       "      <td>4.8581</td>\n",
       "      <td>0.600000</td>\n",
       "      <td>1</td>\n",
       "      <td>-0.239844</td>\n",
       "    </tr>\n",
       "    <tr>\n",
       "      <th>1</th>\n",
       "      <td>1</td>\n",
       "      <td>480</td>\n",
       "      <td>4.8581</td>\n",
       "      <td>0.625134</td>\n",
       "      <td>1</td>\n",
       "      <td>0.117156</td>\n",
       "    </tr>\n",
       "    <tr>\n",
       "      <th>2</th>\n",
       "      <td>2</td>\n",
       "      <td>480</td>\n",
       "      <td>4.8581</td>\n",
       "      <td>0.650267</td>\n",
       "      <td>1</td>\n",
       "      <td>0.080047</td>\n",
       "    </tr>\n",
       "    <tr>\n",
       "      <th>3</th>\n",
       "      <td>3</td>\n",
       "      <td>480</td>\n",
       "      <td>4.8581</td>\n",
       "      <td>0.675401</td>\n",
       "      <td>1</td>\n",
       "      <td>-0.013781</td>\n",
       "    </tr>\n",
       "    <tr>\n",
       "      <th>4</th>\n",
       "      <td>4</td>\n",
       "      <td>480</td>\n",
       "      <td>4.8581</td>\n",
       "      <td>0.700535</td>\n",
       "      <td>1</td>\n",
       "      <td>0.086453</td>\n",
       "    </tr>\n",
       "    <tr>\n",
       "      <th>...</th>\n",
       "      <td>...</td>\n",
       "      <td>...</td>\n",
       "      <td>...</td>\n",
       "      <td>...</td>\n",
       "      <td>...</td>\n",
       "      <td>...</td>\n",
       "    </tr>\n",
       "    <tr>\n",
       "      <th>370</th>\n",
       "      <td>370</td>\n",
       "      <td>480</td>\n",
       "      <td>4.8581</td>\n",
       "      <td>9.899465</td>\n",
       "      <td>1</td>\n",
       "      <td>0.458719</td>\n",
       "    </tr>\n",
       "    <tr>\n",
       "      <th>371</th>\n",
       "      <td>371</td>\n",
       "      <td>480</td>\n",
       "      <td>4.8581</td>\n",
       "      <td>9.924599</td>\n",
       "      <td>1</td>\n",
       "      <td>0.459125</td>\n",
       "    </tr>\n",
       "    <tr>\n",
       "      <th>372</th>\n",
       "      <td>372</td>\n",
       "      <td>480</td>\n",
       "      <td>4.8581</td>\n",
       "      <td>9.949733</td>\n",
       "      <td>1</td>\n",
       "      <td>0.458125</td>\n",
       "    </tr>\n",
       "    <tr>\n",
       "      <th>373</th>\n",
       "      <td>373</td>\n",
       "      <td>480</td>\n",
       "      <td>4.8581</td>\n",
       "      <td>9.974866</td>\n",
       "      <td>1</td>\n",
       "      <td>0.457984</td>\n",
       "    </tr>\n",
       "    <tr>\n",
       "      <th>374</th>\n",
       "      <td>374</td>\n",
       "      <td>480</td>\n",
       "      <td>4.8581</td>\n",
       "      <td>10.000000</td>\n",
       "      <td>1</td>\n",
       "      <td>0.457813</td>\n",
       "    </tr>\n",
       "  </tbody>\n",
       "</table>\n",
       "<p>375 rows × 6 columns</p>\n",
       "</div>"
      ],
      "text/plain": [
       "     Unnamed: 0  Wavelength      V1         V2  Gain       Out\n",
       "0             0         480  4.8581   0.600000     1 -0.239844\n",
       "1             1         480  4.8581   0.625134     1  0.117156\n",
       "2             2         480  4.8581   0.650267     1  0.080047\n",
       "3             3         480  4.8581   0.675401     1 -0.013781\n",
       "4             4         480  4.8581   0.700535     1  0.086453\n",
       "..          ...         ...     ...        ...   ...       ...\n",
       "370         370         480  4.8581   9.899465     1  0.458719\n",
       "371         371         480  4.8581   9.924599     1  0.459125\n",
       "372         372         480  4.8581   9.949733     1  0.458125\n",
       "373         373         480  4.8581   9.974866     1  0.457984\n",
       "374         374         480  4.8581  10.000000     1  0.457813\n",
       "\n",
       "[375 rows x 6 columns]"
      ]
     },
     "execution_count": 3,
     "metadata": {},
     "output_type": "execute_result"
    }
   ],
   "source": [
    "ang_data"
   ]
  },
  {
   "cell_type": "code",
   "execution_count": 8,
   "metadata": {},
   "outputs": [
    {
     "name": "stdout",
     "output_type": "stream",
     "text": [
      "Starting training data scan. Don't touch anything please\n"
     ]
    },
    {
     "name": "stderr",
     "output_type": "stream",
     "text": [
      "/usr/lib/python3/dist-packages/pyvisa_py/protocols/usbtmc.py:115: UserWarning: Unexpected MsgID format. Consider updating the device's firmware. See https://github.com/pyvisa/pyvisa-py/issues/20\n",
      "  warnings.warn(\n"
     ]
    }
   ],
   "source": [
    "data = lcvrs.get_training_data(350,480,mode = \"fixed_v1\", v1 = 4.8581)"
   ]
  },
  {
   "cell_type": "code",
   "execution_count": 9,
   "metadata": {},
   "outputs": [
    {
     "data": {
      "image/png": "[encoded data removed]",
      "text/plain": [
       "<Figure size 640x480 with 1 Axes>"
      ]
     },
     "metadata": {},
     "output_type": "display_data"
    }
   ],
   "source": [
    "data = lcvrs.add_angle(data)\n",
    "x = data['V2']\n",
    "y = data['Angle']\n",
    "\n",
    "fig, ax = plt.subplots()\n",
    "\n",
    "ax.scatter(x, y, color='blue', linewidth=2)\n",
    "\n",
    "# Customization\n",
    "ax.set_xlabel('X')\n",
    "ax.set_ylabel('Y')\n",
    "ax.set_title('Fixed V1 V2 vs Angle')\n",
    "\n",
    "# Show!\n",
    "plt.show()"
   ]
  },
  {
   "cell_type": "code",
   "execution_count": null,
   "metadata": {},
   "outputs": [],
   "source": []
  }
 ],
 "metadata": {
  "kernelspec": {
   "display_name": "Python 3",
   "language": "python",
   "name": "python3"
  },
  "language_info": {
   "codemirror_mode": {
    "name": "ipython",
    "version": 3
   },
   "file_extension": ".py",
   "mimetype": "text/x-python",
   "name": "python",
   "nbconvert_exporter": "python",
   "pygments_lexer": "ipython3",
   "version": "3.11.6"
  }
 },
 "nbformat": 4,
 "nbformat_minor": 2
}
