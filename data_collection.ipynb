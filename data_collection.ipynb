{
 "cells": [
  {
   "cell_type": "markdown",
   "metadata": {},
   "source": [
    "# Using the lcvr_learning Class to Measure Training Data\n",
    "\n",
    "To train our model, it helps to have a large amount of training data. While this can be measured and calibrated by hand, it can take several hours for a single wavelength to get the data. On top of this, changing the orientation of the LCVR's will then change the necessary driving voltage for different polarizations, resulting in prior training data being useless. To combat this, the class has an automated function for collecting training data.\n",
    "\n",
    "First we need to import the library. In addition, we set the device to our input channel on our ADC module. This is required to know where the data is being read from. We can also set the function generator being used for the square wave as well, which *should* work so long as it follows the same SCPI command syntax as the Siglent 2042x. Otherwise the functions that read and write parameters to the function generators may need to be modified."
   ]
  },
  {
   "cell_type": "code",
   "execution_count": 1,
   "metadata": {},
   "outputs": [],
   "source": [
    "import lcvr_learning as lcl\n",
    "import numpy as np\n",
    "import pyvisa\n",
    "import pandas as pd\n",
    "rm = pyvisa.ResourceManager('@py')\n",
    "lcvrs = lcl.lcvr_learning(0x6a,0x6b)"
   ]
  },
  {
   "cell_type": "markdown",
   "metadata": {},
   "source": [
    "There's a few functions in the class that simplify some processes, such as setting the input voltage, getting information on the current inputs, and reading out data from the ADC. This just cuts back a bit on SCPI queries and hopefully makes the code more readable. As an example:"
   ]
  },
  {
   "cell_type": "code",
   "execution_count": 14,
   "metadata": {},
   "outputs": [
    {
     "data": {
      "text/plain": [
       "-0.33962500000000007"
      ]
     },
     "execution_count": 14,
     "metadata": {},
     "output_type": "execute_result"
    }
   ],
   "source": [
    "lcvrs.get_voltage()"
   ]
  },
  {
   "cell_type": "markdown",
   "metadata": {},
   "source": [
    "Returns the current output voltage on the ADC, and"
   ]
  },
  {
   "cell_type": "code",
   "execution_count": 15,
   "metadata": {},
   "outputs": [
    {
     "data": {
      "text/plain": [
       "(2000.0, 1.0)"
      ]
     },
     "execution_count": 15,
     "metadata": {},
     "output_type": "execute_result"
    }
   ],
   "source": [
    "lcvrs.get_wave_info(1)\n",
    "lcvrs.get_wave_info(2)"
   ]
  },
  {
   "cell_type": "markdown",
   "metadata": {},
   "source": [
    "Returns the frequency and amplitude of the inputs on channel 1 and 2 respectively. These are initialized to 2000 Hz and 1 V when the connection is made as a safeguard. "
   ]
  },
  {
   "cell_type": "markdown",
   "metadata": {},
   "source": [
    "# Automatically Reading and Writing Data:\n",
    "\n",
    "The class has the function get_training_data(iterations,wavelength), which will automatically alter the input voltages on each LCVR and read the differential output on two photodetectors that are preceeded by a Wollaston prism. This in turn means the output voltage is directly correlated to the polarization state of the output light. All of this data is then written to a pandas dataframe for easy manipulation."
   ]
  },
  {
   "cell_type": "code",
   "execution_count": 11,
   "metadata": {},
   "outputs": [
    {
     "name": "stdout",
     "output_type": "stream",
     "text": [
      "Starting training data scan. Don't touch anything please\n"
     ]
    }
   ],
   "source": [
    "data = lcvrs.get_training_data(200,480)"
   ]
  },
  {
   "cell_type": "code",
   "execution_count": 12,
   "metadata": {},
   "outputs": [
    {
     "data": {
      "text/html": [
       "<div>\n",
       "<style scoped>\n",
       "    .dataframe tbody tr th:only-of-type {\n",
       "        vertical-align: middle;\n",
       "    }\n",
       "\n",
       "    .dataframe tbody tr th {\n",
       "        vertical-align: top;\n",
       "    }\n",
       "\n",
       "    .dataframe thead th {\n",
       "        text-align: right;\n",
       "    }\n",
       "</style>\n",
       "<table border=\"1\" class=\"dataframe\">\n",
       "  <thead>\n",
       "    <tr style=\"text-align: right;\">\n",
       "      <th></th>\n",
       "      <th>Wavelength</th>\n",
       "      <th>V1</th>\n",
       "      <th>V2</th>\n",
       "      <th>Out</th>\n",
       "    </tr>\n",
       "  </thead>\n",
       "  <tbody>\n",
       "    <tr>\n",
       "      <th>0</th>\n",
       "      <td>480</td>\n",
       "      <td>1.000000</td>\n",
       "      <td>1.0</td>\n",
       "      <td>-0.335938</td>\n",
       "    </tr>\n",
       "    <tr>\n",
       "      <th>1</th>\n",
       "      <td>480</td>\n",
       "      <td>1.061224</td>\n",
       "      <td>1.0</td>\n",
       "      <td>-0.336234</td>\n",
       "    </tr>\n",
       "    <tr>\n",
       "      <th>2</th>\n",
       "      <td>480</td>\n",
       "      <td>1.122449</td>\n",
       "      <td>1.0</td>\n",
       "      <td>-0.336219</td>\n",
       "    </tr>\n",
       "    <tr>\n",
       "      <th>3</th>\n",
       "      <td>480</td>\n",
       "      <td>1.183673</td>\n",
       "      <td>1.0</td>\n",
       "      <td>-0.336219</td>\n",
       "    </tr>\n",
       "    <tr>\n",
       "      <th>4</th>\n",
       "      <td>480</td>\n",
       "      <td>1.244898</td>\n",
       "      <td>1.0</td>\n",
       "      <td>-0.336250</td>\n",
       "    </tr>\n",
       "  </tbody>\n",
       "</table>\n",
       "</div>"
      ],
      "text/plain": [
       "   Wavelength        V1   V2       Out\n",
       "0         480  1.000000  1.0 -0.335938\n",
       "1         480  1.061224  1.0 -0.336234\n",
       "2         480  1.122449  1.0 -0.336219\n",
       "3         480  1.183673  1.0 -0.336219\n",
       "4         480  1.244898  1.0 -0.336250"
      ]
     },
     "execution_count": 12,
     "metadata": {},
     "output_type": "execute_result"
    }
   ],
   "source": [
    "data.head()"
   ]
  },
  {
   "cell_type": "markdown",
   "metadata": {},
   "source": [
    "Here we write the data to a .csv file to train our model on later. The name is simply the wavelength of light used (in nm) to try and keep things readable."
   ]
  },
  {
   "cell_type": "code",
   "execution_count": 13,
   "metadata": {},
   "outputs": [],
   "source": [
    "data.to_csv('trainingdata_new/480.csv')"
   ]
  }
 ],
 "metadata": {
  "kernelspec": {
   "display_name": "Python 3",
   "language": "python",
   "name": "python3"
  },
  "language_info": {
   "codemirror_mode": {
    "name": "ipython",
    "version": 3
   },
   "file_extension": ".py",
   "mimetype": "text/x-python",
   "name": "python",
   "nbconvert_exporter": "python",
   "pygments_lexer": "ipython3",
   "version": "3.11.6"
  }
 },
 "nbformat": 4,
 "nbformat_minor": 2
}
