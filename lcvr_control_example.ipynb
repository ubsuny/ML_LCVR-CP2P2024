{
 "cells": [
  {
   "cell_type": "code",
   "execution_count": null,
   "metadata": {},
   "outputs": [],
   "source": [
    "import pyvisa\n",
    "rm = pyvisa.ResourceManager()"
   ]
  },
  {
   "cell_type": "code",
   "execution_count": null,
   "metadata": {},
   "outputs": [],
   "source": [
    "sdg = rm.open_resource(ADDRESS)\n",
    "print(sdg.query(\"*IDN?\"))"
   ]
  },
  {
   "cell_type": "code",
   "execution_count": null,
   "metadata": {},
   "outputs": [],
   "source": [
    "sdg.write(\"C1:OUTP OFF\")\n",
    "sdg.write(\"C1:BSWV FRQ, 2000\")\n",
    "sdg.write(\"C1:BSWV AMP, 19\")\n",
    "sdg.write(\"C1:BSWV WVTP, SQUARE\")\n",
    "waveInfo = sdg.query(\"C1:BSWV?\")\n",
    "\n",
    "while 1 < 2:\n",
    "    if waveInfo[0] != \"C\":\n",
    "        waveInfo = sdg.query(\"C1:BSWV?\")\n",
    "    else:\n",
    "        break"
   ]
  }
 ],
 "metadata": {
  "language_info": {
   "name": "python"
  }
 },
 "nbformat": 4,
 "nbformat_minor": 2
}
