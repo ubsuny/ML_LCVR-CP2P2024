{
 "cells": [
  {
   "cell_type": "code",
   "execution_count": null,
   "metadata": {},
   "outputs": [],
   "source": [
    "import pyvisa\n",
    "rm = pyvisa.ResourceManager()"
   ]
  },
  {
   "cell_type": "code",
   "execution_count": null,
   "metadata": {},
   "outputs": [],
   "source": [
    "sdg = rm.open_resource(ADDRESS)\n",
    "print(sdg.query(\"*IDN?\"))"
   ]
  },
  {
   "cell_type": "code",
   "execution_count": null,
   "metadata": {},
   "outputs": [],
   "source": [
    "sdg.write(\"C1:OUTP OFF\")\n",
    "sdg.write(\"C1:BSWV FRQ, 2000\")\n",
    "sdg.write(\"C1:BSWV AMP, 19\")\n",
    "sdg.write(\"C1:BSWV WVTP, SQUARE\")\n",
    "waveInfo = sdg.query(\"C1:BSWV?\")\n",
    "\n",
    "while 1 < 2:\n",
    "    if waveInfo[0] != \"C\":\n",
    "        waveInfo = sdg.query(\"C1:BSWV?\")\n",
    "    else:\n",
    "        break"
   ]
  },
  {
   "cell_type": "code",
   "execution_count": null,
   "metadata": {},
   "outputs": [],
   "source": [
    "freqIndex = waveInfo.find(\"FRQ\")\n",
    "voltIndexStart = waveInfo.find(\"AMP\")\n",
    "voltIndexEnd = waveInfo.find(\"V,AMPVRMS\")\n",
    "\n",
    "if waveInfo[freqIndex + 4:freqIndex + 8] != \"2000\":\n",
    "    print(\"WARNING: INCORRECT FREQUENCY, MUST BE 2 kHz\")\n",
    "    raise SystemExit\n",
    "if float(waveInfo[voltIndexStart+4:voltIndexEnd]) > 20.0:\n",
    "    sdg.write(\"C1:AMP 1\")\n",
    "    print(\"WARNING: VOLTAGE TOO HIGH. VOLTAGE SHOULD BE NO GREATER THAN 20 V\")\n",
    "    raise SystemExit"
   ]
  }
 ],
 "metadata": {
  "language_info": {
   "name": "python"
  }
 },
 "nbformat": 4,
 "nbformat_minor": 2
}
