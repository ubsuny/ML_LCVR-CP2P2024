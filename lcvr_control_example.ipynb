{
 "cells": [
  {
   "cell_type": "code",
   "execution_count": 27,
   "metadata": {},
   "outputs": [
    {
     "data": {
      "text/plain": [
       "('USB0::62700::4354::SDG2XCAD5R3372::0::INSTR',)"
      ]
     },
     "execution_count": 27,
     "metadata": {},
     "output_type": "execute_result"
    }
   ],
   "source": [
    "#NOTE to list function generator with rm.list_resources(), needed to add a file in /etc/udev/rules.d\n",
    "#Named it 99-siglent.rules\n",
    "#Contains only \n",
    "# SUBSYSTEMS==\"usb\", ATTRS{idVendor}==\"f4ec\", ATTRS{idProduct}==\"1102\", MODE=\"0666\"\n",
    "\n",
    "#That will allow the function generator to be detected on a fresh installation\n",
    "\n",
    "import pyvisa\n",
    "rm = pyvisa.ResourceManager('@py')\n",
    "rm.list_resources()"
   ]
  },
  {
   "cell_type": "code",
   "execution_count": 28,
   "metadata": {},
   "outputs": [],
   "source": [
    "sdg = rm.open_resource('USB0::62700::4354::SDG2XCAD5R3372::0::INSTR')\n",
    "#sdg = rm.open_resource(ADDRESS)\n",
    "#print(sdg.query(\"*IDN?\"))"
   ]
  },
  {
   "cell_type": "code",
   "execution_count": 31,
   "metadata": {},
   "outputs": [],
   "source": [
    "sdg.write(\"C1:OUTP OFF\")\n",
    "sdg.write(\"C1:BSWV FRQ, 2000\")\n",
    "sdg.write(\"C1:BSWV AMP, 15\")\n",
    "sdg.write(\"C1:BSWV WVTP, SQUARE\")\n",
    "waveInfo = sdg.query(\"C1:BSWV?\")\n",
    "\n",
    "while 1 < 2:\n",
    "    if waveInfo[0] != \"C\":\n",
    "        waveInfo = sdg.query(\"C1:BSWV?\")\n",
    "    else:\n",
    "        break"
   ]
  },
  {
   "cell_type": "code",
   "execution_count": 30,
   "metadata": {},
   "outputs": [],
   "source": [
    "freqIndex = waveInfo.find(\"FRQ\")\n",
    "voltIndexStart = waveInfo.find(\"AMP\")\n",
    "voltIndexEnd = waveInfo.find(\"V,AMPVRMS\")\n",
    "\n",
    "if waveInfo[freqIndex + 4:freqIndex + 8] != \"2000\":\n",
    "    print(\"WARNING: INCORRECT FREQUENCY, MUST BE 2 kHz\")\n",
    "    raise SystemExit\n",
    "if float(waveInfo[voltIndexStart+4:voltIndexEnd]) > 20.0:\n",
    "    sdg.write(\"C1:AMP 1\")\n",
    "    print(\"WARNING: VOLTAGE TOO HIGH. VOLTAGE SHOULD BE NO GREATER THAN 20 V\")\n",
    "    raise SystemExit"
   ]
  },
  {
   "cell_type": "code",
   "execution_count": null,
   "metadata": {},
   "outputs": [],
   "source": []
  }
 ],
 "metadata": {
  "kernelspec": {
   "display_name": "Python 3",
   "language": "python",
   "name": "python3"
  },
  "language_info": {
   "codemirror_mode": {
    "name": "ipython",
    "version": 3
   },
   "file_extension": ".py",
   "mimetype": "text/x-python",
   "name": "python",
   "nbconvert_exporter": "python",
   "pygments_lexer": "ipython3",
   "version": "3.11.6"
  }
 },
 "nbformat": 4,
 "nbformat_minor": 2
}
