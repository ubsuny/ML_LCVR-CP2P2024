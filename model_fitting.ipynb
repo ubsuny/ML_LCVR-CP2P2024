{
 "cells": [
  {
   "cell_type": "code",
   "execution_count": 5,
   "metadata": {},
   "outputs": [],
   "source": [
    "import pandas as pd\n",
    "import os\n",
    "import glob\n",
    "import numpy as np\n",
    "from sklearn.svm import SVR\n",
    "from sklearn.model_selection import GridSearchCV\n",
    "import matplotlib.pyplot as plt"
   ]
  },
  {
   "cell_type": "markdown",
   "metadata": {},
   "source": [
    "Import all data as one dataframe"
   ]
  },
  {
   "cell_type": "code",
   "execution_count": 6,
   "metadata": {},
   "outputs": [
    {
     "data": {
      "text/html": [
       "<div>\n",
       "<style scoped>\n",
       "    .dataframe tbody tr th:only-of-type {\n",
       "        vertical-align: middle;\n",
       "    }\n",
       "\n",
       "    .dataframe tbody tr th {\n",
       "        vertical-align: top;\n",
       "    }\n",
       "\n",
       "    .dataframe thead th {\n",
       "        text-align: right;\n",
       "    }\n",
       "</style>\n",
       "<table border=\"1\" class=\"dataframe\">\n",
       "  <thead>\n",
       "    <tr style=\"text-align: right;\">\n",
       "      <th></th>\n",
       "      <th>Wavelength</th>\n",
       "      <th>V1</th>\n",
       "      <th>V2</th>\n",
       "      <th>Gain</th>\n",
       "      <th>Out</th>\n",
       "    </tr>\n",
       "  </thead>\n",
       "  <tbody>\n",
       "    <tr>\n",
       "      <th>0</th>\n",
       "      <td>495</td>\n",
       "      <td>0.050000</td>\n",
       "      <td>0.050000</td>\n",
       "      <td>4</td>\n",
       "      <td>0.072094</td>\n",
       "    </tr>\n",
       "    <tr>\n",
       "      <th>1</th>\n",
       "      <td>495</td>\n",
       "      <td>0.130612</td>\n",
       "      <td>0.050000</td>\n",
       "      <td>4</td>\n",
       "      <td>0.070441</td>\n",
       "    </tr>\n",
       "    <tr>\n",
       "      <th>2</th>\n",
       "      <td>495</td>\n",
       "      <td>0.211224</td>\n",
       "      <td>0.050000</td>\n",
       "      <td>4</td>\n",
       "      <td>0.072832</td>\n",
       "    </tr>\n",
       "    <tr>\n",
       "      <th>3</th>\n",
       "      <td>495</td>\n",
       "      <td>0.291837</td>\n",
       "      <td>0.050000</td>\n",
       "      <td>4</td>\n",
       "      <td>0.073059</td>\n",
       "    </tr>\n",
       "    <tr>\n",
       "      <th>4</th>\n",
       "      <td>495</td>\n",
       "      <td>0.372449</td>\n",
       "      <td>0.050000</td>\n",
       "      <td>4</td>\n",
       "      <td>0.073020</td>\n",
       "    </tr>\n",
       "    <tr>\n",
       "      <th>...</th>\n",
       "      <td>...</td>\n",
       "      <td>...</td>\n",
       "      <td>...</td>\n",
       "      <td>...</td>\n",
       "      <td>...</td>\n",
       "    </tr>\n",
       "    <tr>\n",
       "      <th>1395</th>\n",
       "      <td>590</td>\n",
       "      <td>3.677551</td>\n",
       "      <td>0.372449</td>\n",
       "      <td>4</td>\n",
       "      <td>0.061949</td>\n",
       "    </tr>\n",
       "    <tr>\n",
       "      <th>1396</th>\n",
       "      <td>590</td>\n",
       "      <td>3.758163</td>\n",
       "      <td>0.291837</td>\n",
       "      <td>4</td>\n",
       "      <td>0.062184</td>\n",
       "    </tr>\n",
       "    <tr>\n",
       "      <th>1397</th>\n",
       "      <td>590</td>\n",
       "      <td>3.838776</td>\n",
       "      <td>0.211224</td>\n",
       "      <td>4</td>\n",
       "      <td>0.063187</td>\n",
       "    </tr>\n",
       "    <tr>\n",
       "      <th>1398</th>\n",
       "      <td>590</td>\n",
       "      <td>3.919388</td>\n",
       "      <td>0.130612</td>\n",
       "      <td>4</td>\n",
       "      <td>0.063203</td>\n",
       "    </tr>\n",
       "    <tr>\n",
       "      <th>1399</th>\n",
       "      <td>590</td>\n",
       "      <td>4.000000</td>\n",
       "      <td>0.050000</td>\n",
       "      <td>4</td>\n",
       "      <td>0.064125</td>\n",
       "    </tr>\n",
       "  </tbody>\n",
       "</table>\n",
       "<p>1400 rows × 5 columns</p>\n",
       "</div>"
      ],
      "text/plain": [
       "      Wavelength        V1        V2  Gain       Out\n",
       "0            495  0.050000  0.050000     4  0.072094\n",
       "1            495  0.130612  0.050000     4  0.070441\n",
       "2            495  0.211224  0.050000     4  0.072832\n",
       "3            495  0.291837  0.050000     4  0.073059\n",
       "4            495  0.372449  0.050000     4  0.073020\n",
       "...          ...       ...       ...   ...       ...\n",
       "1395         590  3.677551  0.372449     4  0.061949\n",
       "1396         590  3.758163  0.291837     4  0.062184\n",
       "1397         590  3.838776  0.211224     4  0.063187\n",
       "1398         590  3.919388  0.130612     4  0.063203\n",
       "1399         590  4.000000  0.050000     4  0.064125\n",
       "\n",
       "[1400 rows x 5 columns]"
      ]
     },
     "execution_count": 6,
     "metadata": {},
     "output_type": "execute_result"
    }
   ],
   "source": [
    "data_dir = 'trainingdata_new'\n",
    "all_data = glob.glob(os.path.join(data_dir, \"*.csv\"))\n",
    "combined_data = pd.concat([pd.read_csv(file) for file in all_data], ignore_index=True)\n",
    "combined_data.drop([\"Unnamed: 0\"], axis = 1)"
   ]
  },
  {
   "cell_type": "markdown",
   "metadata": {},
   "source": [
    "Adjusts output voltage for the gain factor"
   ]
  },
  {
   "cell_type": "code",
   "execution_count": 7,
   "metadata": {},
   "outputs": [],
   "source": [
    "combined_data.loc[0,'Out']\n",
    "new_out = []\n",
    "for i in range(len(combined_data)):\n",
    "    adj_out = combined_data.loc[i,'Out']*combined_data.loc[i,'Gain']\n",
    "    new_out.append(adj_out)\n",
    "combined_data['Out'] = new_out"
   ]
  },
  {
   "cell_type": "markdown",
   "metadata": {},
   "source": [
    "Fitting model as shown in svm_regression_test.ipynb (will go into further detail)"
   ]
  },
  {
   "cell_type": "code",
   "execution_count": 68,
   "metadata": {},
   "outputs": [],
   "source": [
    "x = combined_data['V1'].to_numpy()\n",
    "y = combined_data['V2'].to_numpy()\n",
    "z = combined_data['Gain Volts'].to_numpy(dtype = 'object')\n",
    "\n",
    "X = np.column_stack((x, y))\n",
    "\n",
    "param_grid = {'C': [0.1, 1, 10, 100], 'gamma': [0.001, 0.01, 0.1, 1]}\n",
    "grid_search = GridSearchCV(SVR(kernel='rbf'), param_grid, cv=5)\n",
    "grid_search.fit(X, z)\n",
    "best_c = grid_search.best_params_['C']\n",
    "best_gamma = grid_search.best_params_['gamma']\n",
    "\n",
    "model = SVR(kernel='rbf', C=best_c, gamma=best_gamma) \n",
    "model.fit(X,z)\n",
    "x1_min, x1_max = X[:, 0].min() - 1, X[:, 0].max() + 1\n",
    "x2_min, x2_max = X[:, 1].min() - 1, X[:, 1].max() + 1 \n",
    "xx1, xx2 = np.meshgrid(np.linspace(x1_min, x1_max, 500),\n",
    "                       np.linspace(x2_min, x2_max, 500))\n",
    "xx_input = np.column_stack((xx1.ravel(), xx2.ravel()))\n",
    "y_pred = model.predict(xx_input)"
   ]
  },
  {
   "cell_type": "markdown",
   "metadata": {},
   "source": [
    "# Attempting Neural Network Fitting\n",
    "The above fit is a bit rough, and part of the problem is that it's wavelength agnostic. Of course, we do have a wavelength dependency in our data. However, the reason it's wavelength agnostic is because (from what I can gather) getting the predictions we'd like from a 4D SVM regressor is difficult. The current goal is to give two inputs (wavelength and desired polarization angle) and receive the input voltages needed for the LCVR's to produce the angle. Therefore a neural net may be more apt to fit this data."
   ]
  },
  {
   "cell_type": "code",
   "execution_count": 69,
   "metadata": {},
   "outputs": [],
   "source": [
    "## Test neural network code created with Gemini (modified slightly by me)\n",
    "\n",
    "import tensorflow as tf\n",
    "from tensorflow.keras import layers\n",
    "\n",
    "# Converts dataframe to tensor\n",
    "# Note x is \"input\" wavelength, output voltage, Y is LCVR Volts\n",
    "x = combined_data.iloc[:, [1, 5]]\n",
    "y = combined_data.iloc[:, [2, 3]] \n",
    "X = tf.convert_to_tensor(x)\n",
    "Y = tf.convert_to_tensor(y)\n",
    "\n",
    "# Split into training and validation sets\n",
    "# Splitting ratio (e.g., 80% for training)\n",
    "split_ratio = 0.8\n",
    "\n",
    "# Calculate the split index\n",
    "split_index = int(split_ratio * len(X))\n",
    "\n",
    "# Splitting the tensors\n",
    "X_train = X[:split_index]\n",
    "X_val = X[split_index:]\n",
    "Y_train = Y[:split_index]\n",
    "Y_val = Y[split_index:]\n",
    "\n",
    "# Model Definition\n",
    "model = tf.keras.Sequential([\n",
    "  layers.Dense(10, activation='relu', input_shape=(2,)),  # Hidden layer\n",
    "  layers.Dense(2)  # Output layer with 2 neurons\n",
    "])\n",
    "\n",
    "# Compilation\n",
    "model.compile(optimizer='adam', loss='mean_squared_error')\n",
    "\n",
    "# Training\n",
    "model.fit(X_train, Y_train, epochs=1000, validation_data=(X_val, Y_val), verbose = 0) \n"
   ]
  },
  {
   "cell_type": "code",
   "execution_count": 66,
   "metadata": {},
   "outputs": [
    {
     "name": "stdout",
     "output_type": "stream",
     "text": [
      "\u001b[1m1/1\u001b[0m \u001b[32m━━━━━━━━━━━━━━━━━━━━\u001b[0m\u001b[37m\u001b[0m \u001b[1m0s\u001b[0m 22ms/step\n",
      "[[2.1804125 1.4351246]]\n"
     ]
    }
   ],
   "source": [
    "# Prediction\n",
    "new_input = tf.constant([[500,-.1]])  # Input with 2 known features\n",
    "prediction = model.predict(new_input)\n",
    "print(prediction) "
   ]
  },
  {
   "cell_type": "code",
   "execution_count": 67,
   "metadata": {},
   "outputs": [
    {
     "data": {
      "text/html": [
       "<div>\n",
       "<style scoped>\n",
       "    .dataframe tbody tr th:only-of-type {\n",
       "        vertical-align: middle;\n",
       "    }\n",
       "\n",
       "    .dataframe tbody tr th {\n",
       "        vertical-align: top;\n",
       "    }\n",
       "\n",
       "    .dataframe thead th {\n",
       "        text-align: right;\n",
       "    }\n",
       "</style>\n",
       "<table border=\"1\" class=\"dataframe\">\n",
       "  <thead>\n",
       "    <tr style=\"text-align: right;\">\n",
       "      <th></th>\n",
       "      <th>Wavelength</th>\n",
       "      <th>Out</th>\n",
       "    </tr>\n",
       "  </thead>\n",
       "  <tbody>\n",
       "    <tr>\n",
       "      <th>0</th>\n",
       "      <td>495</td>\n",
       "      <td>0.288375</td>\n",
       "    </tr>\n",
       "    <tr>\n",
       "      <th>1</th>\n",
       "      <td>495</td>\n",
       "      <td>0.281766</td>\n",
       "    </tr>\n",
       "    <tr>\n",
       "      <th>2</th>\n",
       "      <td>495</td>\n",
       "      <td>0.291328</td>\n",
       "    </tr>\n",
       "    <tr>\n",
       "      <th>3</th>\n",
       "      <td>495</td>\n",
       "      <td>0.292234</td>\n",
       "    </tr>\n",
       "    <tr>\n",
       "      <th>4</th>\n",
       "      <td>495</td>\n",
       "      <td>0.292078</td>\n",
       "    </tr>\n",
       "  </tbody>\n",
       "</table>\n",
       "</div>"
      ],
      "text/plain": [
       "   Wavelength       Out\n",
       "0         495  0.288375\n",
       "1         495  0.281766\n",
       "2         495  0.291328\n",
       "3         495  0.292234\n",
       "4         495  0.292078"
      ]
     },
     "execution_count": 67,
     "metadata": {},
     "output_type": "execute_result"
    }
   ],
   "source": [
    "x.head()"
   ]
  },
  {
   "cell_type": "code",
   "execution_count": null,
   "metadata": {},
   "outputs": [],
   "source": []
  }
 ],
 "metadata": {
  "kernelspec": {
   "display_name": "Python 3",
   "language": "python",
   "name": "python3"
  },
  "language_info": {
   "codemirror_mode": {
    "name": "ipython",
    "version": 3
   },
   "file_extension": ".py",
   "mimetype": "text/x-python",
   "name": "python",
   "nbconvert_exporter": "python",
   "pygments_lexer": "ipython3",
   "version": "3.10.12"
  }
 },
 "nbformat": 4,
 "nbformat_minor": 2
}
