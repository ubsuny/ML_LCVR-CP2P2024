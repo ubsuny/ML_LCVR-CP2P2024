{
 "cells": [
  {
   "cell_type": "markdown",
   "metadata": {},
   "source": [
    "# Testing the ADC Input on Raspberry Pi Compute Module 4 IO Board\n",
    "\n",
    "This is just testing to make sure our ADC measurement is working as intended. First we have to import the library provided by ABElectronics, as we'll be using their 8 Channel 18-bit Differential Analogue to Digital Converter. The repository can be found here (https://github.com/abelectronicsuk/ABElectronics_Python_Libraries/tree/master)"
   ]
  },
  {
   "cell_type": "code",
   "execution_count": 3,
   "metadata": {},
   "outputs": [],
   "source": [
    "from ADCDifferentialPi import ADCDifferentialPi as adc"
   ]
  },
  {
   "cell_type": "markdown",
   "metadata": {},
   "source": [
    "Now we specify our input device. Here our ADC is on the i2c addresses 0x6a and 0x6b for our input channels. 0x6a covers inputs 1-4, 0x6b covers inputs 5-8. We also choose a sampling bitrate of 18."
   ]
  },
  {
   "cell_type": "code",
   "execution_count": 4,
   "metadata": {},
   "outputs": [],
   "source": [
    "signal = adc(0x6a,0x6b,18)"
   ]
  },
  {
   "cell_type": "markdown",
   "metadata": {},
   "source": [
    "For our purposes we only need a single signal since our detectors are configured to give a differential signal. Therefore they're attached only to channel 1. We can read this off simply with the read_voltage function, where to argument is the channel we'd like to read.\n",
    "\n",
    "It works, we can compare the output when our power supply is turned off vs. at roughly 2 V"
   ]
  },
  {
   "cell_type": "code",
   "execution_count": 10,
   "metadata": {},
   "outputs": [
    {
     "data": {
      "text/plain": [
       "-0.023734375000000085"
      ]
     },
     "execution_count": 10,
     "metadata": {},
     "output_type": "execute_result"
    }
   ],
   "source": [
    "signal.read_voltage(1)"
   ]
  },
  {
   "cell_type": "code",
   "execution_count": 11,
   "metadata": {},
   "outputs": [
    {
     "data": {
      "text/plain": [
       "1.975359375"
      ]
     },
     "execution_count": 11,
     "metadata": {},
     "output_type": "execute_result"
    }
   ],
   "source": [
    "signal.read_voltage(1)"
   ]
  },
  {
   "cell_type": "code",
   "execution_count": null,
   "metadata": {},
   "outputs": [],
   "source": []
  }
 ],
 "metadata": {
  "kernelspec": {
   "display_name": "Python 3",
   "language": "python",
   "name": "python3"
  },
  "language_info": {
   "codemirror_mode": {
    "name": "ipython",
    "version": 3
   },
   "file_extension": ".py",
   "mimetype": "text/x-python",
   "name": "python",
   "nbconvert_exporter": "python",
   "pygments_lexer": "ipython3",
   "version": "3.11.6"
  }
 },
 "nbformat": 4,
 "nbformat_minor": 2
}
